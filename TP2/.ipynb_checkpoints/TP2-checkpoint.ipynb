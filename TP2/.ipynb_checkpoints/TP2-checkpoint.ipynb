{
 "cells": [
  {
   "cell_type": "code",
   "execution_count": 4,
   "id": "45bc2432",
   "metadata": {},
   "outputs": [
    {
     "ename": "FileNotFoundError",
     "evalue": "[Errno 2] No such file or directory: '/Users/macbook/Desktop/UdeSa/Materias/Big data/Big-Data/TP2/EPH_usu_1er_Trim_2023/usu_individual_T123.xlsx'",
     "output_type": "error",
     "traceback": [
      "\u001b[1;31m---------------------------------------------------------------------------\u001b[0m",
      "\u001b[1;31mFileNotFoundError\u001b[0m                         Traceback (most recent call last)",
      "Cell \u001b[1;32mIn[4], line 4\u001b[0m\n\u001b[0;32m      1\u001b[0m \u001b[38;5;28;01mimport\u001b[39;00m \u001b[38;5;21;01mpandas\u001b[39;00m \u001b[38;5;28;01mas\u001b[39;00m \u001b[38;5;21;01mpd\u001b[39;00m\n\u001b[0;32m      3\u001b[0m \u001b[38;5;66;03m# Leer la base de datos\u001b[39;00m\n\u001b[1;32m----> 4\u001b[0m df \u001b[38;5;241m=\u001b[39m pd\u001b[38;5;241m.\u001b[39mread_excel(\u001b[38;5;124m'\u001b[39m\u001b[38;5;124m/Users/macbook/Desktop/UdeSa/Materias/Big data/Big-Data/TP2/EPH_usu_1er_Trim_2023/usu_individual_T123.xlsx\u001b[39m\u001b[38;5;124m'\u001b[39m)\n\u001b[0;32m      6\u001b[0m \u001b[38;5;66;03m# Filtrar observaciones\u001b[39;00m\n\u001b[0;32m      7\u001b[0m df_filtrado \u001b[38;5;241m=\u001b[39m df[df[\u001b[38;5;124m'\u001b[39m\u001b[38;5;124mAGLOMERADO\u001b[39m\u001b[38;5;124m'\u001b[39m]\u001b[38;5;241m.\u001b[39misin([\u001b[38;5;241m32\u001b[39m, \u001b[38;5;241m33\u001b[39m])]\n",
      "File \u001b[1;32m~\\anaconda3\\Lib\\site-packages\\pandas\\util\\_decorators.py:211\u001b[0m, in \u001b[0;36mdeprecate_kwarg.<locals>._deprecate_kwarg.<locals>.wrapper\u001b[1;34m(*args, **kwargs)\u001b[0m\n\u001b[0;32m    209\u001b[0m     \u001b[38;5;28;01melse\u001b[39;00m:\n\u001b[0;32m    210\u001b[0m         kwargs[new_arg_name] \u001b[38;5;241m=\u001b[39m new_arg_value\n\u001b[1;32m--> 211\u001b[0m \u001b[38;5;28;01mreturn\u001b[39;00m func(\u001b[38;5;241m*\u001b[39margs, \u001b[38;5;241m*\u001b[39m\u001b[38;5;241m*\u001b[39mkwargs)\n",
      "File \u001b[1;32m~\\anaconda3\\Lib\\site-packages\\pandas\\util\\_decorators.py:331\u001b[0m, in \u001b[0;36mdeprecate_nonkeyword_arguments.<locals>.decorate.<locals>.wrapper\u001b[1;34m(*args, **kwargs)\u001b[0m\n\u001b[0;32m    325\u001b[0m \u001b[38;5;28;01mif\u001b[39;00m \u001b[38;5;28mlen\u001b[39m(args) \u001b[38;5;241m>\u001b[39m num_allow_args:\n\u001b[0;32m    326\u001b[0m     warnings\u001b[38;5;241m.\u001b[39mwarn(\n\u001b[0;32m    327\u001b[0m         msg\u001b[38;5;241m.\u001b[39mformat(arguments\u001b[38;5;241m=\u001b[39m_format_argument_list(allow_args)),\n\u001b[0;32m    328\u001b[0m         \u001b[38;5;167;01mFutureWarning\u001b[39;00m,\n\u001b[0;32m    329\u001b[0m         stacklevel\u001b[38;5;241m=\u001b[39mfind_stack_level(),\n\u001b[0;32m    330\u001b[0m     )\n\u001b[1;32m--> 331\u001b[0m \u001b[38;5;28;01mreturn\u001b[39;00m func(\u001b[38;5;241m*\u001b[39margs, \u001b[38;5;241m*\u001b[39m\u001b[38;5;241m*\u001b[39mkwargs)\n",
      "File \u001b[1;32m~\\anaconda3\\Lib\\site-packages\\pandas\\io\\excel\\_base.py:482\u001b[0m, in \u001b[0;36mread_excel\u001b[1;34m(io, sheet_name, header, names, index_col, usecols, squeeze, dtype, engine, converters, true_values, false_values, skiprows, nrows, na_values, keep_default_na, na_filter, verbose, parse_dates, date_parser, thousands, decimal, comment, skipfooter, convert_float, mangle_dupe_cols, storage_options)\u001b[0m\n\u001b[0;32m    480\u001b[0m \u001b[38;5;28;01mif\u001b[39;00m \u001b[38;5;129;01mnot\u001b[39;00m \u001b[38;5;28misinstance\u001b[39m(io, ExcelFile):\n\u001b[0;32m    481\u001b[0m     should_close \u001b[38;5;241m=\u001b[39m \u001b[38;5;28;01mTrue\u001b[39;00m\n\u001b[1;32m--> 482\u001b[0m     io \u001b[38;5;241m=\u001b[39m ExcelFile(io, storage_options\u001b[38;5;241m=\u001b[39mstorage_options, engine\u001b[38;5;241m=\u001b[39mengine)\n\u001b[0;32m    483\u001b[0m \u001b[38;5;28;01melif\u001b[39;00m engine \u001b[38;5;129;01mand\u001b[39;00m engine \u001b[38;5;241m!=\u001b[39m io\u001b[38;5;241m.\u001b[39mengine:\n\u001b[0;32m    484\u001b[0m     \u001b[38;5;28;01mraise\u001b[39;00m \u001b[38;5;167;01mValueError\u001b[39;00m(\n\u001b[0;32m    485\u001b[0m         \u001b[38;5;124m\"\u001b[39m\u001b[38;5;124mEngine should not be specified when passing \u001b[39m\u001b[38;5;124m\"\u001b[39m\n\u001b[0;32m    486\u001b[0m         \u001b[38;5;124m\"\u001b[39m\u001b[38;5;124man ExcelFile - ExcelFile already has the engine set\u001b[39m\u001b[38;5;124m\"\u001b[39m\n\u001b[0;32m    487\u001b[0m     )\n",
      "File \u001b[1;32m~\\anaconda3\\Lib\\site-packages\\pandas\\io\\excel\\_base.py:1652\u001b[0m, in \u001b[0;36mExcelFile.__init__\u001b[1;34m(self, path_or_buffer, engine, storage_options)\u001b[0m\n\u001b[0;32m   1650\u001b[0m     ext \u001b[38;5;241m=\u001b[39m \u001b[38;5;124m\"\u001b[39m\u001b[38;5;124mxls\u001b[39m\u001b[38;5;124m\"\u001b[39m\n\u001b[0;32m   1651\u001b[0m \u001b[38;5;28;01melse\u001b[39;00m:\n\u001b[1;32m-> 1652\u001b[0m     ext \u001b[38;5;241m=\u001b[39m inspect_excel_format(\n\u001b[0;32m   1653\u001b[0m         content_or_path\u001b[38;5;241m=\u001b[39mpath_or_buffer, storage_options\u001b[38;5;241m=\u001b[39mstorage_options\n\u001b[0;32m   1654\u001b[0m     )\n\u001b[0;32m   1655\u001b[0m     \u001b[38;5;28;01mif\u001b[39;00m ext \u001b[38;5;129;01mis\u001b[39;00m \u001b[38;5;28;01mNone\u001b[39;00m:\n\u001b[0;32m   1656\u001b[0m         \u001b[38;5;28;01mraise\u001b[39;00m \u001b[38;5;167;01mValueError\u001b[39;00m(\n\u001b[0;32m   1657\u001b[0m             \u001b[38;5;124m\"\u001b[39m\u001b[38;5;124mExcel file format cannot be determined, you must specify \u001b[39m\u001b[38;5;124m\"\u001b[39m\n\u001b[0;32m   1658\u001b[0m             \u001b[38;5;124m\"\u001b[39m\u001b[38;5;124man engine manually.\u001b[39m\u001b[38;5;124m\"\u001b[39m\n\u001b[0;32m   1659\u001b[0m         )\n",
      "File \u001b[1;32m~\\anaconda3\\Lib\\site-packages\\pandas\\io\\excel\\_base.py:1525\u001b[0m, in \u001b[0;36minspect_excel_format\u001b[1;34m(content_or_path, storage_options)\u001b[0m\n\u001b[0;32m   1522\u001b[0m \u001b[38;5;28;01mif\u001b[39;00m \u001b[38;5;28misinstance\u001b[39m(content_or_path, \u001b[38;5;28mbytes\u001b[39m):\n\u001b[0;32m   1523\u001b[0m     content_or_path \u001b[38;5;241m=\u001b[39m BytesIO(content_or_path)\n\u001b[1;32m-> 1525\u001b[0m \u001b[38;5;28;01mwith\u001b[39;00m get_handle(\n\u001b[0;32m   1526\u001b[0m     content_or_path, \u001b[38;5;124m\"\u001b[39m\u001b[38;5;124mrb\u001b[39m\u001b[38;5;124m\"\u001b[39m, storage_options\u001b[38;5;241m=\u001b[39mstorage_options, is_text\u001b[38;5;241m=\u001b[39m\u001b[38;5;28;01mFalse\u001b[39;00m\n\u001b[0;32m   1527\u001b[0m ) \u001b[38;5;28;01mas\u001b[39;00m handle:\n\u001b[0;32m   1528\u001b[0m     stream \u001b[38;5;241m=\u001b[39m handle\u001b[38;5;241m.\u001b[39mhandle\n\u001b[0;32m   1529\u001b[0m     stream\u001b[38;5;241m.\u001b[39mseek(\u001b[38;5;241m0\u001b[39m)\n",
      "File \u001b[1;32m~\\anaconda3\\Lib\\site-packages\\pandas\\io\\common.py:865\u001b[0m, in \u001b[0;36mget_handle\u001b[1;34m(path_or_buf, mode, encoding, compression, memory_map, is_text, errors, storage_options)\u001b[0m\n\u001b[0;32m    856\u001b[0m         handle \u001b[38;5;241m=\u001b[39m \u001b[38;5;28mopen\u001b[39m(\n\u001b[0;32m    857\u001b[0m             handle,\n\u001b[0;32m    858\u001b[0m             ioargs\u001b[38;5;241m.\u001b[39mmode,\n\u001b[1;32m   (...)\u001b[0m\n\u001b[0;32m    861\u001b[0m             newline\u001b[38;5;241m=\u001b[39m\u001b[38;5;124m\"\u001b[39m\u001b[38;5;124m\"\u001b[39m,\n\u001b[0;32m    862\u001b[0m         )\n\u001b[0;32m    863\u001b[0m     \u001b[38;5;28;01melse\u001b[39;00m:\n\u001b[0;32m    864\u001b[0m         \u001b[38;5;66;03m# Binary mode\u001b[39;00m\n\u001b[1;32m--> 865\u001b[0m         handle \u001b[38;5;241m=\u001b[39m \u001b[38;5;28mopen\u001b[39m(handle, ioargs\u001b[38;5;241m.\u001b[39mmode)\n\u001b[0;32m    866\u001b[0m     handles\u001b[38;5;241m.\u001b[39mappend(handle)\n\u001b[0;32m    868\u001b[0m \u001b[38;5;66;03m# Convert BytesIO or file objects passed with an encoding\u001b[39;00m\n",
      "\u001b[1;31mFileNotFoundError\u001b[0m: [Errno 2] No such file or directory: '/Users/macbook/Desktop/UdeSa/Materias/Big data/Big-Data/TP2/EPH_usu_1er_Trim_2023/usu_individual_T123.xlsx'"
     ]
    }
   ],
   "source": [
    "import pandas as pd\n",
    "\n",
    "# Leer la base de datos\n",
    "df = pd.read_excel('/Users/macbook/Desktop/UdeSa/Materias/Big data/Big-Data/TP2/EPH_usu_1er_Trim_2023/usu_individual_T123.xlsx')\n",
    "\n",
    "# Filtrar observaciones\n",
    "df_filtrado = df[df['AGLOMERADO'].isin([32, 33])]"
   ]
  },
  {
   "cell_type": "code",
   "execution_count": null,
   "id": "90db9e0e",
   "metadata": {},
   "outputs": [],
   "source": [
    "# 3. Limpiar las observaciones\n",
    "df_limpiado = df_filtrado[(df_filtrado['CH06'] >= 0)]\n",
    "# Eliminamos las edades negativas\n",
    "\n",
    "df_limpio = df_limpiado[\n",
    "    (df_limpiado['ESTADO'] != 0) & # 0 = Entrevista individual no realizada (no respuesta al cuestionario individual)\n",
    "    (df_limpiado['NIVEL_ED'] != 9) & # 9 = Ns/Nr \n",
    "    (df_limpiado['CH08'] != 9) & # 9 = Ns/Nr\n",
    "    (df_limpiado['CH07'] != 9) # 9 = Ns/Nr \n",
    "    #(df_limpiado['CAT_INAC'] != 0) # Casos que no les corresponde la inactividad, no los sacamos para mantener los activos\n",
    "]"
   ]
  },
  {
   "cell_type": "code",
   "execution_count": 5,
   "id": "409c88a9",
   "metadata": {},
   "outputs": [
    {
     "ename": "NameError",
     "evalue": "name 'df_limpio' is not defined",
     "output_type": "error",
     "traceback": [
      "\u001b[1;31m---------------------------------------------------------------------------\u001b[0m",
      "\u001b[1;31mNameError\u001b[0m                                 Traceback (most recent call last)",
      "Cell \u001b[1;32mIn[5], line 4\u001b[0m\n\u001b[0;32m      1\u001b[0m \u001b[38;5;28;01mimport\u001b[39;00m \u001b[38;5;21;01mmatplotlib\u001b[39;00m\u001b[38;5;21;01m.\u001b[39;00m\u001b[38;5;21;01mpyplot\u001b[39;00m \u001b[38;5;28;01mas\u001b[39;00m \u001b[38;5;21;01mplt\u001b[39;00m\n\u001b[0;32m      3\u001b[0m \u001b[38;5;66;03m# Conteo total por género\u001b[39;00m\n\u001b[1;32m----> 4\u001b[0m gender_counts \u001b[38;5;241m=\u001b[39m df_limpio[\u001b[38;5;124m'\u001b[39m\u001b[38;5;124mCH04\u001b[39m\u001b[38;5;124m'\u001b[39m]\u001b[38;5;241m.\u001b[39mvalue_counts()\n\u001b[0;32m      6\u001b[0m \u001b[38;5;66;03m# Porcentajes por género\u001b[39;00m\n\u001b[0;32m      7\u001b[0m gender_percentage \u001b[38;5;241m=\u001b[39m (df_limpio[\u001b[38;5;124m'\u001b[39m\u001b[38;5;124mCH04\u001b[39m\u001b[38;5;124m'\u001b[39m]\u001b[38;5;241m.\u001b[39mvalue_counts(normalize\u001b[38;5;241m=\u001b[39m\u001b[38;5;28;01mTrue\u001b[39;00m) \u001b[38;5;241m*\u001b[39m \u001b[38;5;241m100\u001b[39m)\n",
      "\u001b[1;31mNameError\u001b[0m: name 'df_limpio' is not defined"
     ]
    }
   ],
   "source": [
    "import matplotlib.pyplot as plt\n",
    "\n",
    "# Conteo total por género\n",
    "gender_counts = df_limpio['CH04'].value_counts()\n",
    "\n",
    "# Porcentajes por género\n",
    "gender_percentage = (df_limpio['CH04'].value_counts(normalize=True) * 100)\n",
    "\n",
    "# Gráfico de barras con conteo total y etiquetas \n",
    "plt.figure(figsize=(12, 5))\n",
    "bars = gender_counts.sort_index().plot(kind='bar', color=['darkgreen', 'darkred'])\n",
    "plt.title('Composición por Género (Conteo Total)')\n",
    "plt.xlabel('Género')\n",
    "plt.ylabel('Cantidad de Observaciones')\n",
    "plt.xticks(ticks=[0, 1], labels=['Varón', 'Mujer'], rotation=0)\n",
    "\n",
    "# Agregar etiquetas a las barras\n",
    "for bar in bars.patches:\n",
    "    yval = bar.get_height()\n",
    "    plt.text(bar.get_x() + bar.get_width()/2, yval + 50, round(yval, 2), ha=\"center\", va=\"bottom\")\n",
    "\n",
    "plt.tight_layout()\n",
    "plt.show()\n",
    "\n",
    "# Gráfico de barras con porcentajes y etiquetas \n",
    "plt.figure(figsize=(12, 5))\n",
    "bars_percentage = gender_percentage.sort_index().plot(kind='bar', color=['darkgreen', 'darkred'])\n",
    "plt.title('Composición por Género (Porcentaje)')\n",
    "plt.xlabel('Género')\n",
    "plt.ylabel('Porcentaje (%)')\n",
    "plt.xticks(ticks=[0, 1], labels=['Varón', 'Mujer'], rotation=0)\n",
    "\n",
    "# Agregar etiquetas a las barras\n",
    "for bar in bars_percentage.patches:\n",
    "    yval = bar.get_height()\n",
    "    plt.text(bar.get_x() + bar.get_width()/2, yval + 0.5, f\"{round(yval, 2)}%\", ha=\"center\", va=\"bottom\")\n",
    "\n",
    "plt.tight_layout()\n",
    "plt.show()\n"
   ]
  },
  {
   "cell_type": "code",
   "execution_count": null,
   "id": "a2bc8f18",
   "metadata": {},
   "outputs": [],
   "source": [
    "# 2.d, Seleccionamos solo las columnas de interés\n",
    "\n",
    "# Matriz de correlación\n",
    "import seaborn as sns\n",
    "\n",
    "seleccion_variables = ['CH04', 'CH07', 'CH08', 'NIVEL_ED', 'ESTADO', 'CAT_INAC', 'IPCF']\n",
    "etiquetas = ['Sexo', 'Estado Civil', 'Cobertura Médica', 'Nivel Educativo', 'Ocupación', 'Cat. Inactividad', 'IPCF']\n",
    "\n",
    "df_matriz = df_limpio[seleccion_variables]\n",
    "\n",
    "# Calculamos la matriz de correlación para estas columnas\n",
    "corr_corrected = df_matriz.corr()\n",
    "\n",
    "# Creamos el heatmap (mapa de calor) con seaborn\n",
    "plt.figure(figsize=(12, 10))\n",
    "ax = sns.heatmap(\n",
    "    corr_corrected, \n",
    "    vmin=-1, vmax=1, center=0,\n",
    "    cmap=sns.diverging_palette(20, 220, n=200),\n",
    "    square=True,\n",
    "    annot=True,\n",
    "    fmt=\".2f\",\n",
    "    xticklabels=etiquetas,  # Agrega las etiquetas al eje x\n",
    "    yticklabels=etiquetas   # Agrega las etiquetas al eje y\n",
    ")\n",
    "ax.set_xticklabels(\n",
    "    ax.get_xticklabels(),\n",
    "    rotation=45,\n",
    "    horizontalalignment='right'\n",
    ")\n",
    "plt.title(\"Matriz de Correlación de Variables Seleccionadas\")\n",
    "plt.show()\n"
   ]
  },
  {
   "cell_type": "code",
   "execution_count": null,
   "id": "2471ef6a",
   "metadata": {},
   "outputs": [],
   "source": [
    "desocupados = len(df_limpio[(df_limpio[\"ESTADO\"]==2)])\n",
    "print(str(desocupados) + \" desocupados\")\n",
    "\n",
    "inactivos = len(df_limpio[(df_limpio[\"ESTADO\"]==3)])\n",
    "print(str(inactivos) + \" inactivos\")\n",
    "\n",
    "\n",
    "# Filtrado basado en el estado laboral\n",
    "grupo_desocupados = df_limpio.query('ESTADO == 2')\n",
    "grupo_inactivos = df_limpio.query('ESTADO == 3')\n",
    "grupo_ocupados = df_limpio.query('ESTADO == 1')\n",
    "\n",
    "# Cálculo de ingresos per cápita familiar según el estado laboral\n",
    "promedio_ipcf_ocupados = grupo_ocupados['IPCF'].mean()\n",
    "promedio_ipcf_desocupados = grupo_desocupados['IPCF'].mean()\n",
    "promedio_ipcf_inactivos = grupo_inactivos['IPCF'].mean()\n",
    "\n",
    "# Muestra de resultados\n",
    "\n",
    "print(f'Ingreso Promedio Per Cápita Familiar (ocupados): ${promedio_ipcf_ocupados:.2f}')\n",
    "print(f'Ingreso Promedio Per Cápita Familiar (desocupados): ${promedio_ipcf_desocupados:.2f}')\n",
    "print(f'Ingreso Promedio Per Cápita Familiar (inactivos): ${promedio_ipcf_inactivos:.2f}')"
   ]
  },
  {
   "cell_type": "code",
   "execution_count": null,
   "id": "58fde270",
   "metadata": {},
   "outputs": [],
   "source": [
    "adultos_data = pd.read_excel(\"tabla_adulto_equiv.xlsx\", skiprows=3)\n",
    "adultos_data = adultos_data.dropna(how='all')\n",
    "adultos_data = adultos_data.iloc[:23, :]\n",
    "\n",
    "adultos_data"
   ]
  },
  {
   "cell_type": "code",
   "execution_count": 20,
   "id": "d41df5e3",
   "metadata": {
    "scrolled": true
   },
   "outputs": [
    {
     "ename": "NameError",
     "evalue": "name 'df_limpio' is not defined",
     "output_type": "error",
     "traceback": [
      "\u001b[1;31m---------------------------------------------------------------------------\u001b[0m",
      "\u001b[1;31mNameError\u001b[0m                                 Traceback (most recent call last)",
      "Cell \u001b[1;32mIn[20], line 50\u001b[0m\n\u001b[0;32m     47\u001b[0m         \u001b[38;5;28;01mreturn\u001b[39;00m \u001b[38;5;124m\"\u001b[39m\u001b[38;5;124mmás de 75 años\u001b[39m\u001b[38;5;124m\"\u001b[39m\n\u001b[0;32m     49\u001b[0m \u001b[38;5;66;03m# Creando la columna \"Rango de Edad\"\u001b[39;00m\n\u001b[1;32m---> 50\u001b[0m df_limpio[\u001b[38;5;124m'\u001b[39m\u001b[38;5;124mRango de Edad\u001b[39m\u001b[38;5;124m'\u001b[39m] \u001b[38;5;241m=\u001b[39m df_limpio[\u001b[38;5;124m'\u001b[39m\u001b[38;5;124mCH06\u001b[39m\u001b[38;5;124m'\u001b[39m]\u001b[38;5;241m.\u001b[39mapply(categorize_age)\n\u001b[0;32m     52\u001b[0m \u001b[38;5;66;03m# Mostramos las primeras filas del DataFrame con la columna añadida\u001b[39;00m\n\u001b[0;32m     53\u001b[0m df_limpio[[\u001b[38;5;124m'\u001b[39m\u001b[38;5;124mCH06\u001b[39m\u001b[38;5;124m'\u001b[39m, \u001b[38;5;124m'\u001b[39m\u001b[38;5;124mRango de Edad\u001b[39m\u001b[38;5;124m'\u001b[39m]]\u001b[38;5;241m.\u001b[39mhead()\n",
      "\u001b[1;31mNameError\u001b[0m: name 'df_limpio' is not defined"
     ]
    }
   ],
   "source": [
    "def categorize_age(age):\n",
    "    if age == 0:\n",
    "        return \"Menor de 1 año\"\n",
    "    elif age == 1:\n",
    "        return \"1 año\"\n",
    "    elif age == 2:\n",
    "        return \"2 años\"\n",
    "    elif age == 3:\n",
    "        return \"3 años\"\n",
    "    elif age == 4:\n",
    "        return \"4 años\"\n",
    "    elif age == 5:\n",
    "        return \"5 años\"\n",
    "    elif age == 6:\n",
    "        return \"6 años\"\n",
    "    elif age == 7:\n",
    "        return \"7 años\"\n",
    "    elif age == 8:\n",
    "        return \"8 años\"\n",
    "    elif age == 9:\n",
    "        return \"9 años\"\n",
    "    elif age == 10:\n",
    "        return \"10 años\"\n",
    "    elif age == 11:\n",
    "        return \"11 años\"\n",
    "    elif age == 12:\n",
    "        return \"12 años\"\n",
    "    elif age == 13:\n",
    "        return \"13 años\"\n",
    "    elif age == 14:\n",
    "        return \"14 años\"\n",
    "    elif age == 15:\n",
    "        return \"15 años\"\n",
    "    elif age == 16:\n",
    "        return \"16 años\"\n",
    "    elif age == 17:\n",
    "        return \"17 años\"\n",
    "    elif 18 <= age <= 29:\n",
    "        return \"18 a 29 años\"\n",
    "    elif 30 <= age <= 45:\n",
    "        return \"30 a 45 años\"\n",
    "    elif 46 <= age <= 60:\n",
    "        return \"46 a 60 años\"\n",
    "    elif 61 <= age <= 75:\n",
    "        return \"61 a 75 años\"\n",
    "    else:\n",
    "        return \"más de 75 años\"\n",
    "\n",
    "# Creando la columna \"Rango de Edad\"\n",
    "df_limpio['Rango de Edad'] = df_limpio['CH06'].apply(categorize_age)\n",
    "\n",
    "# Mostramos las primeras filas del DataFrame con la columna añadida\n",
    "df_limpio[['CH06', 'Rango de Edad']].head() "
   ]
  },
  {
   "cell_type": "code",
   "execution_count": 18,
   "id": "b1ebe5f1",
   "metadata": {},
   "outputs": [
    {
     "ename": "NameError",
     "evalue": "name 'adultos_data' is not defined",
     "output_type": "error",
     "traceback": [
      "\u001b[1;31m---------------------------------------------------------------------------\u001b[0m",
      "\u001b[1;31mNameError\u001b[0m                                 Traceback (most recent call last)",
      "Cell \u001b[1;32mIn[18], line 2\u001b[0m\n\u001b[0;32m      1\u001b[0m \u001b[38;5;66;03m# Creando dos dataframes: uno para Mujeres y otro para Varones\u001b[39;00m\n\u001b[1;32m----> 2\u001b[0m df_mujeres \u001b[38;5;241m=\u001b[39m adultos_data[[\u001b[38;5;124m'\u001b[39m\u001b[38;5;124mEdad\u001b[39m\u001b[38;5;124m'\u001b[39m, \u001b[38;5;124m'\u001b[39m\u001b[38;5;124mMujeres\u001b[39m\u001b[38;5;124m'\u001b[39m]]\u001b[38;5;241m.\u001b[39mcopy()\n\u001b[0;32m      3\u001b[0m df_mujeres[\u001b[38;5;124m'\u001b[39m\u001b[38;5;124mCH04\u001b[39m\u001b[38;5;124m'\u001b[39m] \u001b[38;5;241m=\u001b[39m \u001b[38;5;241m2\u001b[39m\n\u001b[0;32m      4\u001b[0m df_mujeres\u001b[38;5;241m.\u001b[39mrename(columns\u001b[38;5;241m=\u001b[39m{\u001b[38;5;124m'\u001b[39m\u001b[38;5;124mMujeres\u001b[39m\u001b[38;5;124m'\u001b[39m: \u001b[38;5;124m'\u001b[39m\u001b[38;5;124madulto_equiv\u001b[39m\u001b[38;5;124m'\u001b[39m}, inplace\u001b[38;5;241m=\u001b[39m\u001b[38;5;28;01mTrue\u001b[39;00m)\n",
      "\u001b[1;31mNameError\u001b[0m: name 'adultos_data' is not defined"
     ]
    }
   ],
   "source": [
    "# Creando dos dataframes: uno para Mujeres y otro para Varones\n",
    "df_mujeres = adultos_data[['Edad', 'Mujeres']].copy()\n",
    "df_mujeres['CH04'] = 2\n",
    "df_mujeres.rename(columns={'Mujeres': 'adulto_equiv'}, inplace=True)\n",
    "\n",
    "df_varones = adultos_data[['Edad', 'Varones']].copy()\n",
    "df_varones['CH04'] = 1\n",
    "df_varones.rename(columns={'Varones': 'adulto_equiv'}, inplace=True)\n",
    "\n",
    "# Concatenando ambos dataframes\n",
    "adultos_equiv_data = pd.concat([df_mujeres, df_varones], axis=0)\n",
    "\n",
    "# Reordenando las columnas y ordenando el dataframe por Edad\n",
    "adultos_equiv_data = adultos_equiv_data[['Edad', 'CH04', 'adulto_equiv']]\n",
    "adultos_equiv_data = adultos_equiv_data.sort_values(by=['Edad', 'CH04']).reset_index(drop=True)\n",
    "\n",
    "adultos_equiv_data.head(100)\n"
   ]
  },
  {
   "cell_type": "code",
   "execution_count": 16,
   "id": "4720410e",
   "metadata": {},
   "outputs": [
    {
     "ename": "NameError",
     "evalue": "name 'df_limpio' is not defined",
     "output_type": "error",
     "traceback": [
      "\u001b[1;31m---------------------------------------------------------------------------\u001b[0m",
      "\u001b[1;31mNameError\u001b[0m                                 Traceback (most recent call last)",
      "Cell \u001b[1;32mIn[16], line 5\u001b[0m\n\u001b[0;32m      1\u001b[0m \u001b[38;5;66;03m# Renombrando la columna \"Rango de Edad\" a \"Edad\" en df_limpio\u001b[39;00m\n\u001b[0;32m      2\u001b[0m \u001b[38;5;66;03m#df_limpio.rename(columns={'Rango de Edad': 'Edad'}, inplace=True)\u001b[39;00m\n\u001b[0;32m      3\u001b[0m \n\u001b[0;32m      4\u001b[0m \u001b[38;5;66;03m# Uniendo df_limpio con adultos_equiv_data usando las columnas \"Edad\" y \"CH04\"\u001b[39;00m\n\u001b[1;32m----> 5\u001b[0m df_merged \u001b[38;5;241m=\u001b[39m pd\u001b[38;5;241m.\u001b[39mmerge(df_limpio, adultos_equiv_data[[\u001b[38;5;124m'\u001b[39m\u001b[38;5;124mEdad\u001b[39m\u001b[38;5;124m'\u001b[39m, \u001b[38;5;124m'\u001b[39m\u001b[38;5;124mCH04\u001b[39m\u001b[38;5;124m'\u001b[39m, \u001b[38;5;124m'\u001b[39m\u001b[38;5;124madulto_equiv\u001b[39m\u001b[38;5;124m'\u001b[39m]],\n\u001b[0;32m      6\u001b[0m \n\u001b[0;32m      7\u001b[0m                      on\u001b[38;5;241m=\u001b[39m[\u001b[38;5;124m'\u001b[39m\u001b[38;5;124mEdad\u001b[39m\u001b[38;5;124m'\u001b[39m, \u001b[38;5;124m'\u001b[39m\u001b[38;5;124mCH04\u001b[39m\u001b[38;5;124m'\u001b[39m], how\u001b[38;5;241m=\u001b[39m\u001b[38;5;124m'\u001b[39m\u001b[38;5;124mleft\u001b[39m\u001b[38;5;124m'\u001b[39m)\n\u001b[0;32m      9\u001b[0m \u001b[38;5;66;03m# Mostrando las primeras filas de la base resultante\u001b[39;00m\n\u001b[0;32m     10\u001b[0m df_merged[[\u001b[38;5;124m'\u001b[39m\u001b[38;5;124mCH04\u001b[39m\u001b[38;5;124m'\u001b[39m, \u001b[38;5;124m'\u001b[39m\u001b[38;5;124mCH06\u001b[39m\u001b[38;5;124m'\u001b[39m, \u001b[38;5;124m'\u001b[39m\u001b[38;5;124mEdad\u001b[39m\u001b[38;5;124m'\u001b[39m, \u001b[38;5;124m'\u001b[39m\u001b[38;5;124madulto_equiv\u001b[39m\u001b[38;5;124m'\u001b[39m]]\u001b[38;5;241m.\u001b[39mhead()\n",
      "\u001b[1;31mNameError\u001b[0m: name 'df_limpio' is not defined"
     ]
    }
   ],
   "source": [
    "# Renombrando la columna \"Rango de Edad\" a \"Edad\" en df_limpio\n",
    "#df_limpio.rename(columns={'Rango de Edad': 'Edad'}, inplace=True)\n",
    "\n",
    "# Uniendo df_limpio con adultos_equiv_data usando las columnas \"Edad\" y \"CH04\"\n",
    "df_merged = pd.merge(df_limpio, adultos_equiv_data[['Edad', 'CH04', 'adulto_equiv']],\n",
    "\n",
    "                     on=['Edad', 'CH04'], how='left')\n",
    "\n",
    "# Mostrando las primeras filas de la base resultante\n",
    "df_merged[['CH04', 'CH06', 'Edad', 'adulto_equiv']].head()"
   ]
  },
  {
   "cell_type": "code",
   "execution_count": 15,
   "id": "3a93158d",
   "metadata": {},
   "outputs": [
    {
     "ename": "NameError",
     "evalue": "name 'df_merged' is not defined",
     "output_type": "error",
     "traceback": [
      "\u001b[1;31m---------------------------------------------------------------------------\u001b[0m",
      "\u001b[1;31mNameError\u001b[0m                                 Traceback (most recent call last)",
      "Cell \u001b[1;32mIn[15], line 2\u001b[0m\n\u001b[0;32m      1\u001b[0m \u001b[38;5;66;03m# Agrupar por NRO_HOGAR y CODUSU y calcular la suma de adultos_equiv para cada combinación\u001b[39;00m\n\u001b[1;32m----> 2\u001b[0m sum_adulto_equiv \u001b[38;5;241m=\u001b[39m df_merged\u001b[38;5;241m.\u001b[39mgroupby([\u001b[38;5;124m'\u001b[39m\u001b[38;5;124mNRO_HOGAR\u001b[39m\u001b[38;5;124m'\u001b[39m, \u001b[38;5;124m'\u001b[39m\u001b[38;5;124mCODUSU\u001b[39m\u001b[38;5;124m'\u001b[39m])[\u001b[38;5;124m'\u001b[39m\u001b[38;5;124madulto_equiv\u001b[39m\u001b[38;5;124m'\u001b[39m]\u001b[38;5;241m.\u001b[39msum()\u001b[38;5;241m.\u001b[39mreset_index(name\u001b[38;5;241m=\u001b[39m\u001b[38;5;124m'\u001b[39m\u001b[38;5;124mad_equiv_hogar\u001b[39m\u001b[38;5;124m'\u001b[39m)\n\u001b[0;32m      4\u001b[0m \u001b[38;5;66;03m# Fusionar con df_merged para asignar los valores calculados a la columna ad_equiv_hogar\u001b[39;00m\n\u001b[0;32m      5\u001b[0m df_merged \u001b[38;5;241m=\u001b[39m pd\u001b[38;5;241m.\u001b[39mmerge(df_merged, sum_adulto_equiv, on\u001b[38;5;241m=\u001b[39m[\u001b[38;5;124m'\u001b[39m\u001b[38;5;124mNRO_HOGAR\u001b[39m\u001b[38;5;124m'\u001b[39m, \u001b[38;5;124m'\u001b[39m\u001b[38;5;124mCODUSU\u001b[39m\u001b[38;5;124m'\u001b[39m], how\u001b[38;5;241m=\u001b[39m\u001b[38;5;124m'\u001b[39m\u001b[38;5;124mleft\u001b[39m\u001b[38;5;124m'\u001b[39m)\n",
      "\u001b[1;31mNameError\u001b[0m: name 'df_merged' is not defined"
     ]
    }
   ],
   "source": [
    "# Agrupar por NRO_HOGAR y CODUSU y calcular la suma de adultos_equiv para cada combinación\n",
    "sum_adulto_equiv = df_merged.groupby(['NRO_HOGAR', 'CODUSU'])['adulto_equiv'].sum().reset_index(name='ad_equiv_hogar')\n",
    "\n",
    "# Fusionar con df_merged para asignar los valores calculados a la columna ad_equiv_hogar\n",
    "df_merged = pd.merge(df_merged, sum_adulto_equiv, on=['NRO_HOGAR', 'CODUSU'], how='left')\n",
    "\n",
    "# Mostrar las primeras 10 filas del DataFrame para verificar\n",
    "df_merged[['NRO_HOGAR', 'CODUSU', 'adulto_equiv', 'ad_equiv_hogar']].head(10)"
   ]
  },
  {
   "cell_type": "code",
   "execution_count": 14,
   "id": "76709e57",
   "metadata": {},
   "outputs": [
    {
     "ename": "NameError",
     "evalue": "name 'df_merged' is not defined",
     "output_type": "error",
     "traceback": [
      "\u001b[1;31m---------------------------------------------------------------------------\u001b[0m",
      "\u001b[1;31mNameError\u001b[0m                                 Traceback (most recent call last)",
      "Cell \u001b[1;32mIn[14], line 3\u001b[0m\n\u001b[0;32m      1\u001b[0m \u001b[38;5;66;03m# 3\u001b[39;00m\n\u001b[1;32m----> 3\u001b[0m no_respondieron \u001b[38;5;241m=\u001b[39m df_merged[(df_merged[\u001b[38;5;124m'\u001b[39m\u001b[38;5;124mDECIFR\u001b[39m\u001b[38;5;124m'\u001b[39m] \u001b[38;5;241m==\u001b[39m \u001b[38;5;241m12\u001b[39m) \u001b[38;5;241m|\u001b[39m (df_merged[\u001b[38;5;124m'\u001b[39m\u001b[38;5;124mDECIFR\u001b[39m\u001b[38;5;124m'\u001b[39m] \u001b[38;5;241m==\u001b[39m \u001b[38;5;241m13\u001b[39m) \u001b[38;5;241m&\u001b[39m (df_merged[\u001b[38;5;124m'\u001b[39m\u001b[38;5;124mITF\u001b[39m\u001b[38;5;124m'\u001b[39m] \u001b[38;5;241m==\u001b[39m \u001b[38;5;241m0\u001b[39m)]\u001b[38;5;241m.\u001b[39mcopy()\n\u001b[0;32m      4\u001b[0m respondieron \u001b[38;5;241m=\u001b[39m df_merged[(df_merged[\u001b[38;5;124m'\u001b[39m\u001b[38;5;124mDECIFR\u001b[39m\u001b[38;5;124m'\u001b[39m] \u001b[38;5;241m!=\u001b[39m \u001b[38;5;241m12\u001b[39m) \u001b[38;5;241m&\u001b[39m (df_merged[\u001b[38;5;124m'\u001b[39m\u001b[38;5;124mDECIFR\u001b[39m\u001b[38;5;124m'\u001b[39m] \u001b[38;5;241m!=\u001b[39m \u001b[38;5;241m13\u001b[39m) \u001b[38;5;241m&\u001b[39m (df_merged[\u001b[38;5;124m'\u001b[39m\u001b[38;5;124mITF\u001b[39m\u001b[38;5;124m'\u001b[39m] \u001b[38;5;241m!=\u001b[39m \u001b[38;5;241m0\u001b[39m)]\u001b[38;5;241m.\u001b[39mcopy()\n\u001b[0;32m      6\u001b[0m \u001b[38;5;28mprint\u001b[39m(\u001b[38;5;124mf\u001b[39m\u001b[38;5;124m'\u001b[39m\u001b[38;5;124mCantidad de personas que no respondieron ingresos: \u001b[39m\u001b[38;5;132;01m{\u001b[39;00m\u001b[38;5;28mlen\u001b[39m(no_respondieron)\u001b[38;5;132;01m}\u001b[39;00m\u001b[38;5;124m'\u001b[39m)\n",
      "\u001b[1;31mNameError\u001b[0m: name 'df_merged' is not defined"
     ]
    }
   ],
   "source": [
    "# 3\n",
    "    \n",
    "no_respondieron = df_merged[(df_merged['DECIFR'] == 12) | (df_merged['DECIFR'] == 13) & (df_merged['ITF'] == 0)].copy()\n",
    "respondieron = df_merged[(df_merged['DECIFR'] != 12) & (df_merged['DECIFR'] != 13) & (df_merged['ITF'] != 0)].copy()\n",
    "\n",
    "print(f'Cantidad de personas que no respondieron ingresos: {len(no_respondieron)}')\n",
    "\n",
    "print(f'Cantidad de personas que respondieron ingresos: {len(respondieron)}')"
   ]
  },
  {
   "cell_type": "code",
   "execution_count": 9,
   "id": "84eda4f3",
   "metadata": {},
   "outputs": [
    {
     "ename": "NameError",
     "evalue": "name 'respondieron' is not defined",
     "output_type": "error",
     "traceback": [
      "\u001b[1;31m---------------------------------------------------------------------------\u001b[0m",
      "\u001b[1;31mNameError\u001b[0m                                 Traceback (most recent call last)",
      "Cell \u001b[1;32mIn[9], line 6\u001b[0m\n\u001b[0;32m      1\u001b[0m \u001b[38;5;66;03m# parte 1 ejer 4\u001b[39;00m\n\u001b[0;32m      2\u001b[0m \n\u001b[0;32m      3\u001b[0m \u001b[38;5;66;03m# Procedemos con el cálculo\u001b[39;00m\n\u001b[0;32m      4\u001b[0m canasta_basica_total \u001b[38;5;241m=\u001b[39m \u001b[38;5;241m57371.05\u001b[39m\n\u001b[1;32m----> 6\u001b[0m respondieron[\u001b[38;5;124m'\u001b[39m\u001b[38;5;124mingreso_necesario\u001b[39m\u001b[38;5;124m'\u001b[39m] \u001b[38;5;241m=\u001b[39m respondieron[\u001b[38;5;124m'\u001b[39m\u001b[38;5;124mad_equiv_hogar\u001b[39m\u001b[38;5;124m'\u001b[39m] \u001b[38;5;241m*\u001b[39m canasta_basica_total\n\u001b[0;32m      7\u001b[0m no_respondieron[\u001b[38;5;124m'\u001b[39m\u001b[38;5;124mingreso_necesario\u001b[39m\u001b[38;5;124m'\u001b[39m] \u001b[38;5;241m=\u001b[39m no_respondieron[\u001b[38;5;124m'\u001b[39m\u001b[38;5;124mad_equiv_hogar\u001b[39m\u001b[38;5;124m'\u001b[39m] \u001b[38;5;241m*\u001b[39m canasta_basica_total\n",
      "\u001b[1;31mNameError\u001b[0m: name 'respondieron' is not defined"
     ]
    }
   ],
   "source": [
    "# parte 1 ejer 4\n",
    "\n",
    "# Procedemos con el cálculo\n",
    "canasta_basica_total = 57371.05\n",
    "\n",
    "respondieron['ingreso_necesario'] = respondieron['ad_equiv_hogar'] * canasta_basica_total\n",
    "no_respondieron['ingreso_necesario'] = no_respondieron['ad_equiv_hogar'] * canasta_basica_total\n"
   ]
  },
  {
   "cell_type": "code",
   "execution_count": 10,
   "id": "f2555d3a",
   "metadata": {},
   "outputs": [
    {
     "ename": "NameError",
     "evalue": "name 'respondieron' is not defined",
     "output_type": "error",
     "traceback": [
      "\u001b[1;31m---------------------------------------------------------------------------\u001b[0m",
      "\u001b[1;31mNameError\u001b[0m                                 Traceback (most recent call last)",
      "Cell \u001b[1;32mIn[10], line 3\u001b[0m\n\u001b[0;32m      1\u001b[0m \u001b[38;5;66;03m# parte 1 ejer 5\u001b[39;00m\n\u001b[1;32m----> 3\u001b[0m respondieron[\u001b[38;5;124m'\u001b[39m\u001b[38;5;124mpobre\u001b[39m\u001b[38;5;124m'\u001b[39m] \u001b[38;5;241m=\u001b[39m (respondieron[\u001b[38;5;124m'\u001b[39m\u001b[38;5;124mITF\u001b[39m\u001b[38;5;124m'\u001b[39m] \u001b[38;5;241m<\u001b[39m respondieron[\u001b[38;5;124m'\u001b[39m\u001b[38;5;124mingreso_necesario\u001b[39m\u001b[38;5;124m'\u001b[39m])\u001b[38;5;241m.\u001b[39mastype(\u001b[38;5;28mint\u001b[39m) \n\u001b[0;32m      5\u001b[0m num_pobres \u001b[38;5;241m=\u001b[39m respondieron[\u001b[38;5;124m'\u001b[39m\u001b[38;5;124mpobre\u001b[39m\u001b[38;5;124m'\u001b[39m]\u001b[38;5;241m.\u001b[39msum()\n\u001b[0;32m      6\u001b[0m \u001b[38;5;28mprint\u001b[39m(\u001b[38;5;124mf\u001b[39m\u001b[38;5;124m'\u001b[39m\u001b[38;5;124mNúmero de pobres identificados: \u001b[39m\u001b[38;5;132;01m{\u001b[39;00mnum_pobres\u001b[38;5;132;01m}\u001b[39;00m\u001b[38;5;124m'\u001b[39m)\n",
      "\u001b[1;31mNameError\u001b[0m: name 'respondieron' is not defined"
     ]
    }
   ],
   "source": [
    "# parte 1 ejer 5\n",
    "\n",
    "respondieron['pobre'] = (respondieron['ITF'] < respondieron['ingreso_necesario']).astype(int) \n",
    "\n",
    "num_pobres = respondieron['pobre'].sum()\n",
    "print(f'Número de pobres identificados: {num_pobres}')"
   ]
  },
  {
   "cell_type": "markdown",
   "id": "0e19b476",
   "metadata": {},
   "source": [
    "# Parte II: Clasificación"
   ]
  },
  {
   "cell_type": "code",
   "execution_count": 11,
   "id": "8d6e441d",
   "metadata": {},
   "outputs": [
    {
     "ename": "NameError",
     "evalue": "name 'respondieron' is not defined",
     "output_type": "error",
     "traceback": [
      "\u001b[1;31m---------------------------------------------------------------------------\u001b[0m",
      "\u001b[1;31mNameError\u001b[0m                                 Traceback (most recent call last)",
      "Cell \u001b[1;32mIn[11], line 15\u001b[0m\n\u001b[0;32m      3\u001b[0m columnas_eliminar \u001b[38;5;241m=\u001b[39m [\n\u001b[0;32m      4\u001b[0m     \u001b[38;5;124m\"\u001b[39m\u001b[38;5;124mPP08D1\u001b[39m\u001b[38;5;124m\"\u001b[39m, \u001b[38;5;124m\"\u001b[39m\u001b[38;5;124mPP08D4\u001b[39m\u001b[38;5;124m\"\u001b[39m, \u001b[38;5;124m\"\u001b[39m\u001b[38;5;124mPP08F1\u001b[39m\u001b[38;5;124m\"\u001b[39m, \u001b[38;5;124m\"\u001b[39m\u001b[38;5;124mPP08F2\u001b[39m\u001b[38;5;124m\"\u001b[39m, \u001b[38;5;124m\"\u001b[39m\u001b[38;5;124mPP08J1\u001b[39m\u001b[38;5;124m\"\u001b[39m, \u001b[38;5;124m\"\u001b[39m\u001b[38;5;124mPP08J2\u001b[39m\u001b[38;5;124m\"\u001b[39m, \u001b[38;5;124m\"\u001b[39m\u001b[38;5;124mPP08J3\u001b[39m\u001b[38;5;124m\"\u001b[39m,\n\u001b[0;32m      5\u001b[0m     \u001b[38;5;124m\"\u001b[39m\u001b[38;5;124mP21\u001b[39m\u001b[38;5;124m\"\u001b[39m, \u001b[38;5;124m\"\u001b[39m\u001b[38;5;124mDECOCUR\u001b[39m\u001b[38;5;124m\"\u001b[39m, \u001b[38;5;124m\"\u001b[39m\u001b[38;5;124mIDECOCUR\u001b[39m\u001b[38;5;124m\"\u001b[39m, \u001b[38;5;124m\"\u001b[39m\u001b[38;5;124mRDECOCUR\u001b[39m\u001b[38;5;124m\"\u001b[39m, \u001b[38;5;124m\"\u001b[39m\u001b[38;5;124mGDECOCUR\u001b[39m\u001b[38;5;124m\"\u001b[39m, \u001b[38;5;124m\"\u001b[39m\u001b[38;5;124mPDECOCUR\u001b[39m\u001b[38;5;124m\"\u001b[39m, \u001b[38;5;124m\"\u001b[39m\u001b[38;5;124mADECOCUR\u001b[39m\u001b[38;5;124m\"\u001b[39m, \u001b[38;5;124m\"\u001b[39m\u001b[38;5;124mPONDIIO\u001b[39m\u001b[38;5;124m\"\u001b[39m,\n\u001b[1;32m   (...)\u001b[0m\n\u001b[0;32m     11\u001b[0m     \u001b[38;5;124m\"\u001b[39m\u001b[38;5;124madulto_equiv\u001b[39m\u001b[38;5;124m\"\u001b[39m, \u001b[38;5;124m\"\u001b[39m\u001b[38;5;124mad_equiv_hogar\u001b[39m\u001b[38;5;124m\"\u001b[39m, \u001b[38;5;124m\"\u001b[39m\u001b[38;5;124mingreso_necesario\u001b[39m\u001b[38;5;124m\"\u001b[39m\n\u001b[0;32m     12\u001b[0m ]\n\u001b[0;32m     14\u001b[0m \u001b[38;5;66;03m# Limpiando los dataframes\u001b[39;00m\n\u001b[1;32m---> 15\u001b[0m clean_respondieron \u001b[38;5;241m=\u001b[39m respondieron\u001b[38;5;241m.\u001b[39mdrop(columns\u001b[38;5;241m=\u001b[39mcolumnas_eliminar)\n\u001b[0;32m     16\u001b[0m clean_no_respondieron \u001b[38;5;241m=\u001b[39m no_respondieron\u001b[38;5;241m.\u001b[39mdrop(columns\u001b[38;5;241m=\u001b[39mcolumnas_eliminar)\n\u001b[0;32m     18\u001b[0m \u001b[38;5;66;03m# Imprimiendo las columnas restantes de cada dataframe\u001b[39;00m\n",
      "\u001b[1;31mNameError\u001b[0m: name 'respondieron' is not defined"
     ]
    }
   ],
   "source": [
    "# 1) \n",
    "# Lista de columnas a eliminar\n",
    "columnas_eliminar = [\n",
    "    \"PP08D1\", \"PP08D4\", \"PP08F1\", \"PP08F2\", \"PP08J1\", \"PP08J2\", \"PP08J3\",\n",
    "    \"P21\", \"DECOCUR\", \"IDECOCUR\", \"RDECOCUR\", \"GDECOCUR\", \"PDECOCUR\", \"ADECOCUR\", \"PONDIIO\",\n",
    "    \"TOT_P12\",\n",
    "    \"P47T\", \"DECINDR\", \"IDECINDR\", \"RDECINDR\", \"GDECINDR\", \"PDECINDR\", \"ADECINDR\", \"PONDII\",\n",
    "    \"V2_M\", \"V3_M\", \"V4_M\", \"V5_M\", \"V8_M\", \"V9_M\", \"V10_M\", \"V11_M\", \"V12_M\", \"V18_M\", \"V19_AM\", \"V21_M\", \"T_VI\",\n",
    "    \"ITF\", \"DECIFR\", \"IDECIFR\", \"RDECIFR\", \"GDECIFR\", \"PDECIFR\", \"ADECIFR\",\n",
    "    \"IPCF\", \"DECCFR\", \"IDECCFR\", \"RDECCFR\", \"GDECCFR\", \"PDECCFR\", \"ADECCFR\", \"PONDIH\",\n",
    "    \"adulto_equiv\", \"ad_equiv_hogar\", \"ingreso_necesario\"\n",
    "]\n",
    "\n",
    "# Limpiando los dataframes\n",
    "clean_respondieron = respondieron.drop(columns=columnas_eliminar)\n",
    "clean_no_respondieron = no_respondieron.drop(columns=columnas_eliminar)\n",
    "\n",
    "# Imprimiendo las columnas restantes de cada dataframe\n",
    "print(\"Columnas en clean_respondieron:\")\n",
    "print(clean_respondieron.columns)\n",
    "\n",
    "print(\"\\nColumnas en clean_norespondieron:\")\n",
    "print(clean_no_respondieron.columns)"
   ]
  },
  {
   "cell_type": "code",
   "execution_count": 12,
   "id": "d3d4a905",
   "metadata": {},
   "outputs": [
    {
     "ename": "NameError",
     "evalue": "name 'clean_no_respondieron' is not defined",
     "output_type": "error",
     "traceback": [
      "\u001b[1;31m---------------------------------------------------------------------------\u001b[0m",
      "\u001b[1;31mNameError\u001b[0m                                 Traceback (most recent call last)",
      "Cell \u001b[1;32mIn[12], line 3\u001b[0m\n\u001b[0;32m      1\u001b[0m \u001b[38;5;66;03m# Eliminar las columnas con missing values\u001b[39;00m\n\u001b[1;32m----> 3\u001b[0m clean_no_respondieron \u001b[38;5;241m=\u001b[39m clean_no_respondieron\u001b[38;5;241m.\u001b[39mfillna(\u001b[38;5;241m0\u001b[39m)\n\u001b[0;32m      5\u001b[0m clean_respondieron \u001b[38;5;241m=\u001b[39m clean_respondieron\u001b[38;5;241m.\u001b[39mfillna(\u001b[38;5;241m0\u001b[39m)\n",
      "\u001b[1;31mNameError\u001b[0m: name 'clean_no_respondieron' is not defined"
     ]
    }
   ],
   "source": [
    "# Eliminar las columnas con missing values\n",
    "\n",
    "clean_no_respondieron = clean_no_respondieron.fillna(0)\n",
    "\n",
    "clean_respondieron = clean_respondieron.fillna(0)"
   ]
  },
  {
   "cell_type": "code",
   "execution_count": 13,
   "id": "f3f75a9d",
   "metadata": {},
   "outputs": [
    {
     "ename": "NameError",
     "evalue": "name 'clean_respondieron' is not defined",
     "output_type": "error",
     "traceback": [
      "\u001b[1;31m---------------------------------------------------------------------------\u001b[0m",
      "\u001b[1;31mNameError\u001b[0m                                 Traceback (most recent call last)",
      "Cell \u001b[1;32mIn[13], line 4\u001b[0m\n\u001b[0;32m      1\u001b[0m \u001b[38;5;66;03m# 2) \u001b[39;00m\n\u001b[0;32m      2\u001b[0m \n\u001b[0;32m      3\u001b[0m \u001b[38;5;66;03m# Seleccionar todas las características observadas, excluyendo la columna \"pobre\"\u001b[39;00m\n\u001b[1;32m----> 4\u001b[0m X \u001b[38;5;241m=\u001b[39m clean_respondieron\u001b[38;5;241m.\u001b[39mdrop(columns\u001b[38;5;241m=\u001b[39m[\u001b[38;5;124m\"\u001b[39m\u001b[38;5;124mpobre\u001b[39m\u001b[38;5;124m\"\u001b[39m])\n\u001b[0;32m      6\u001b[0m X \u001b[38;5;241m=\u001b[39m X\u001b[38;5;241m.\u001b[39mselect_dtypes(include\u001b[38;5;241m=\u001b[39m[\u001b[38;5;124m\"\u001b[39m\u001b[38;5;124mnumber\u001b[39m\u001b[38;5;124m\"\u001b[39m])\n\u001b[0;32m      8\u001b[0m \u001b[38;5;66;03m# Añadir una columna constante al conjunto de características observables\u001b[39;00m\n",
      "\u001b[1;31mNameError\u001b[0m: name 'clean_respondieron' is not defined"
     ]
    }
   ],
   "source": [
    "# 2) \n",
    "\n",
    "# Seleccionar todas las características observadas, excluyendo la columna \"pobre\"\n",
    "X = clean_respondieron.drop(columns=[\"pobre\"])\n",
    "\n",
    "X = X.select_dtypes(include=[\"number\"])\n",
    "\n",
    "# Añadir una columna constante al conjunto de características observables\n",
    "X[\"constante\"] = 1\n",
    "\n",
    "# Establecer la variable dependiente\n",
    "Y = clean_respondieron[\"pobre\"]\n",
    "Y_array = Y.to_numpy()"
   ]
  },
  {
   "cell_type": "code",
   "execution_count": 115,
   "id": "5fa17f5d",
   "metadata": {},
   "outputs": [
    {
     "name": "stdout",
     "output_type": "stream",
     "text": [
      "Conjunto de entrenamiento: X_train = 2921 Y_train = 2921\n",
      "Conjunto de prueba: X_test = 1252 Y_test = 1252\n"
     ]
    }
   ],
   "source": [
    "# Dividimos el conjunto de datos en conjuntos de entrenamiento y prueba:\n",
    "X_entrenamiento, X_prueba, Y_entrenamiento, Y_prueba = train_test_split(X, Y_array, test_size=0.3, random_state=201)\n",
    "\n",
    "# Mostramos la cantidad de observaciones en cada conjunto de datos:\n",
    "print(\"Conjunto de entrenamiento:\", \"X_train =\", len(X_entrenamiento), \"Y_train =\", len(Y_entrenamiento))\n",
    "print(\"Conjunto de prueba:\", \"X_test =\", len(X_prueba), \"Y_test =\", len(Y_prueba))"
   ]
  },
  {
   "cell_type": "code",
   "execution_count": 116,
   "id": "846a998b",
   "metadata": {},
   "outputs": [],
   "source": [
    "# 3)  Ajustamos el clasificador con fit con la base de entrenamiento\n",
    "\n",
    "log_reg = LogisticRegression(max_iter=10000).fit(X_entrenamiento, Y_entrenamiento)\n",
    "\n",
    "# Predecimos con la base test\n",
    "\n",
    "Y_pred_log = log_reg.predict(X_prueba)"
   ]
  },
  {
   "cell_type": "code",
   "execution_count": 1,
   "id": "94deb185",
   "metadata": {},
   "outputs": [
    {
     "ename": "NameError",
     "evalue": "name 'confusion_matrix' is not defined",
     "output_type": "error",
     "traceback": [
      "\u001b[1;31m---------------------------------------------------------------------------\u001b[0m",
      "\u001b[1;31mNameError\u001b[0m                                 Traceback (most recent call last)",
      "Cell \u001b[1;32mIn[1], line 5\u001b[0m\n\u001b[0;32m      1\u001b[0m \u001b[38;5;66;03m# Visualización de la matriz de confusión\u001b[39;00m\n\u001b[0;32m      3\u001b[0m \u001b[38;5;28;01mimport\u001b[39;00m \u001b[38;5;21;01mnumpy\u001b[39;00m \u001b[38;5;28;01mas\u001b[39;00m \u001b[38;5;21;01mnp\u001b[39;00m\n\u001b[1;32m----> 5\u001b[0m mat_conf_log \u001b[38;5;241m=\u001b[39m confusion_matrix(Y_prueba, Y_pred_log)\n\u001b[0;32m      7\u001b[0m \u001b[38;5;28mprint\u001b[39m(\u001b[38;5;124m'\u001b[39m\u001b[38;5;124mMatriz de confusión usando regresión logística:\u001b[39m\u001b[38;5;124m'\u001b[39m)\n\u001b[0;32m      8\u001b[0m \u001b[38;5;28mprint\u001b[39m(mat_conf_log)\n",
      "\u001b[1;31mNameError\u001b[0m: name 'confusion_matrix' is not defined"
     ]
    }
   ],
   "source": [
    "# Visualización de la matriz de confusión\n",
    "\n",
    "import numpy as np\n",
    "\n",
    "mat_conf_log = confusion_matrix(Y_prueba, Y_pred_log)\n",
    "\n",
    "print('Matriz de confusión usando regresión logística:')\n",
    "print(mat_conf_log)\n",
    "\n",
    "# Representación gráfica\n",
    "nombres_grupos = ['Correcto Negativo','Incorrecto Positivo','Incorrecto Negativo','Correcto Positivo']\n",
    "\n",
    "conteos_grupos = [\"{0:0.0f}\".format(valor) for valor in\n",
    "                mat_conf_log.flatten()]\n",
    "\n",
    "porcentajes_grupos = [\"{0:.2%}\".format(valor) for valor in\n",
    "                     mat_conf_log.flatten()/np.sum(mat_conf_log)]\n",
    "\n",
    "etiquetas = [f\"{v1}\\n{v2}\\n{v3}\" for v1, v2, v3 in\n",
    "          zip(nombres_grupos, conteos_grupos, porcentajes_grupos)]\n",
    "\n",
    "etiquetas = np.asarray(etiquetas).reshape(2,2)\n",
    "\n",
    "grafico = sns.heatmap(mat_conf_log, annot=etiquetas, fmt='', cmap='Greens')\n",
    "\n",
    "grafico.set_title('Representación de la matriz de confusión con regresión logística \\n\\n');\n",
    "grafico.set_xlabel('\\n Predicciones')\n",
    "grafico.set_ylabel('Observaciones reales');\n",
    "grafico.xaxis.set_ticklabels(['Incorrecto','Correcto'])\n",
    "grafico.yaxis.set_ticklabels(['Incorrecto','Correcto'])"
   ]
  },
  {
   "cell_type": "code",
   "execution_count": 24,
   "id": "79972deb",
   "metadata": {},
   "outputs": [
    {
     "ename": "NameError",
     "evalue": "name 'log_reg' is not defined",
     "output_type": "error",
     "traceback": [
      "\u001b[1;31m---------------------------------------------------------------------------\u001b[0m",
      "\u001b[1;31mNameError\u001b[0m                                 Traceback (most recent call last)",
      "Cell \u001b[1;32mIn[24], line 2\u001b[0m\n\u001b[0;32m      1\u001b[0m \u001b[38;5;66;03m# Predicción de probabilidades\u001b[39;00m\n\u001b[1;32m----> 2\u001b[0m probs_logit \u001b[38;5;241m=\u001b[39m log_reg\u001b[38;5;241m.\u001b[39mpredict_proba(X_prueba)[:, \u001b[38;5;241m1\u001b[39m]\n\u001b[0;32m      4\u001b[0m \u001b[38;5;66;03m# Cálculo de FPR, TPR, y thresholds\u001b[39;00m\n\u001b[0;32m      5\u001b[0m fpr_log, tpr_log, _ \u001b[38;5;241m=\u001b[39m roc_curve(Y_prueba, probs_logit)\n",
      "\u001b[1;31mNameError\u001b[0m: name 'log_reg' is not defined"
     ]
    }
   ],
   "source": [
    "# Predicción de probabilidades\n",
    "probs_logit = log_reg.predict_proba(X_prueba)[:, 1]\n",
    "\n",
    "# Cálculo de FPR, TPR, y thresholds\n",
    "fpr_log, tpr_log, _ = roc_curve(Y_prueba, probs_logit)\n",
    "\n",
    "# Calcula el área bajo la curva ROC\n",
    "roc_auc = roc_auc_score(Y_prueba, probs_logit)\n",
    "\n",
    "# Dibujo de la curva ROC\n",
    "plt.figure(figsize=(7, 5))\n",
    "plt.plot(fpr_log, tpr_log, color='navy', lw=2, label='Curva ROC (área = {:.2f})'.format(roc_auc))\n",
    "plt.plot([0, 1], [0, 1], color='silver', lw=2, linestyle='-.')\n",
    "plt.xlim([0.0, 1.0])\n",
    "plt.ylim([0.0, 1.1])\n",
    "plt.xlabel('Razón de Falsos Positivos')\n",
    "plt.ylabel('Razón de Verdaderos Positivos')\n",
    "plt.title('Característica Operativa del Receptor (ROC)')\n",
    "plt.legend(loc='best')\n",
    "plt.tight_layout()\n",
    "plt.show()"
   ]
  },
  {
   "cell_type": "code",
   "execution_count": 2,
   "id": "7beb0b46",
   "metadata": {},
   "outputs": [
    {
     "ename": "NameError",
     "evalue": "name 'roc_auc_score' is not defined",
     "output_type": "error",
     "traceback": [
      "\u001b[1;31m---------------------------------------------------------------------------\u001b[0m",
      "\u001b[1;31mNameError\u001b[0m                                 Traceback (most recent call last)",
      "Cell \u001b[1;32mIn[2], line 3\u001b[0m\n\u001b[0;32m      1\u001b[0m \u001b[38;5;66;03m# Mostramos el valor AUC\u001b[39;00m\n\u001b[1;32m----> 3\u001b[0m valor_auc_log \u001b[38;5;241m=\u001b[39m roc_auc_score(Y_prueba, Y_pred_log)\n\u001b[0;32m      4\u001b[0m \u001b[38;5;28mprint\u001b[39m(\u001b[38;5;124m'\u001b[39m\u001b[38;5;130;01m\\n\u001b[39;00m\u001b[38;5;124m \u001b[39m\u001b[38;5;130;01m\\n\u001b[39;00m\u001b[38;5;124m El área bajo la curva (AUC) para el modelo Logit es: \u001b[39m\u001b[38;5;132;01m{:.3f}\u001b[39;00m\u001b[38;5;124m \u001b[39m\u001b[38;5;130;01m\\n\u001b[39;00m\u001b[38;5;124m \u001b[39m\u001b[38;5;130;01m\\n\u001b[39;00m\u001b[38;5;124m'\u001b[39m\u001b[38;5;241m.\u001b[39mformat(valor_auc_log))\n\u001b[0;32m      6\u001b[0m \u001b[38;5;66;03m# Determinamos la precisión (Accuracy):\u001b[39;00m\n",
      "\u001b[1;31mNameError\u001b[0m: name 'roc_auc_score' is not defined"
     ]
    }
   ],
   "source": [
    "# Mostramos el valor AUC\n",
    "\n",
    "valor_auc_log = roc_auc_score(Y_prueba, Y_pred_log)\n",
    "print('\\n \\n El área bajo la curva (AUC) para el modelo Logit es: {:.3f} \\n \\n'.format(valor_auc_log))\n",
    "\n",
    "# Determinamos la precisión (Accuracy):\n",
    "\n",
    "precisión = accuracy_score(Y_prueba, Y_pred_log)\n",
    "print('\\n \\n La precisión del modelo Logit resulta ser: {:.6f} \\n \\n'.format(precisión))"
   ]
  },
  {
   "cell_type": "code",
   "execution_count": null,
   "id": "ce45a2fa",
   "metadata": {},
   "outputs": [],
   "source": [
    "#Analisis de discriminante lineal\n"
   ]
  },
  {
   "cell_type": "code",
   "execution_count": 21,
   "id": "7189c3f9",
   "metadata": {},
   "outputs": [
    {
     "ename": "NameError",
     "evalue": "name 'LinearDiscriminantAnalysis' is not defined",
     "output_type": "error",
     "traceback": [
      "\u001b[1;31m---------------------------------------------------------------------------\u001b[0m",
      "\u001b[1;31mNameError\u001b[0m                                 Traceback (most recent call last)",
      "Cell \u001b[1;32mIn[21], line 1\u001b[0m\n\u001b[1;32m----> 1\u001b[0m lda \u001b[38;5;241m=\u001b[39m LinearDiscriminantAnalysis(n_components\u001b[38;5;241m=\u001b[39m\u001b[38;5;241m1\u001b[39m)\n\u001b[0;32m      2\u001b[0m lda \u001b[38;5;241m=\u001b[39m lda\u001b[38;5;241m.\u001b[39mfit(X_entrenamiento,Y_entrenamiento )\n\u001b[0;32m      3\u001b[0m \u001b[38;5;66;03m# Predecimos con el modelo de ADL sobre las X test\u001b[39;00m\n",
      "\u001b[1;31mNameError\u001b[0m: name 'LinearDiscriminantAnalysis' is not defined"
     ]
    }
   ],
   "source": [
    "lda = LinearDiscriminantAnalysis(n_components=1)\n",
    "lda = lda.fit(X_entrenamiento,Y_entrenamiento )\n",
    "# Predecimos con el modelo de ADL sobre las X test\n",
    "y_pred_lda = lda.predict(X_prueba)  "
   ]
  },
  {
   "cell_type": "code",
   "execution_count": 22,
   "id": "dc1354ac",
   "metadata": {},
   "outputs": [
    {
     "ename": "NameError",
     "evalue": "name 'confusion_matrix' is not defined",
     "output_type": "error",
     "traceback": [
      "\u001b[1;31m---------------------------------------------------------------------------\u001b[0m",
      "\u001b[1;31mNameError\u001b[0m                                 Traceback (most recent call last)",
      "Cell \u001b[1;32mIn[22], line 1\u001b[0m\n\u001b[1;32m----> 1\u001b[0m mat_conf_lda \u001b[38;5;241m=\u001b[39m confusion_matrix(Y_prueba, Y_pred_lda)\n\u001b[0;32m      3\u001b[0m \u001b[38;5;28mprint\u001b[39m(\u001b[38;5;124m'\u001b[39m\u001b[38;5;124mMatriz de confusión usando regresión logística:\u001b[39m\u001b[38;5;124m'\u001b[39m)\n\u001b[0;32m      4\u001b[0m \u001b[38;5;28mprint\u001b[39m(mat_conf_lda)\n",
      "\u001b[1;31mNameError\u001b[0m: name 'confusion_matrix' is not defined"
     ]
    }
   ],
   "source": [
    "mat_conf_lda = confusion_matrix(Y_prueba, Y_pred_lda)\n",
    "\n",
    "print('Matriz de confusión usando regresión logística:')\n",
    "print(mat_conf_lda)\n",
    "\n",
    "# Representación gráfica\n",
    "nombres_grupos = ['Correcto Negativo','Incorrecto Positivo','Incorrecto Negativo','Correcto Positivo']\n",
    "\n",
    "conteos_grupos = [\"{0:0.0f}\".format(valor) for valor in\n",
    "                mat_conf_log.flatten()]\n",
    "\n",
    "porcentajes_grupos = [\"{0:.2%}\".format(valor) for valor in\n",
    "                     mat_conf_log.flatten()/np.sum(mat_conf_log)]\n",
    "\n",
    "etiquetas = [f\"{v1}\\n{v2}\\n{v3}\" for v1, v2, v3 in\n",
    "          zip(nombres_grupos, conteos_grupos, porcentajes_grupos)]\n",
    "\n",
    "etiquetas = np.asarray(etiquetas).reshape(2,2)\n",
    "\n",
    "grafico = sns.heatmap(mat_conf_log, annot=etiquetas, fmt='', cmap='Greens')\n",
    "\n",
    "grafico.set_title('Representación de la matriz de confusión con regresión logística \\n\\n');\n",
    "grafico.set_xlabel('\\n Predicciones')\n",
    "grafico.set_ylabel('Observaciones reales');\n",
    "grafico.xaxis.set_ticklabels(['Incorrecto','Correcto'])\n",
    "grafico.yaxis.set_ticklabels(['Incorrecto','Correcto'])"
   ]
  },
  {
   "cell_type": "code",
   "execution_count": 23,
   "id": "a50dceab",
   "metadata": {},
   "outputs": [
    {
     "ename": "NameError",
     "evalue": "name 'lda_reg' is not defined",
     "output_type": "error",
     "traceback": [
      "\u001b[1;31m---------------------------------------------------------------------------\u001b[0m",
      "\u001b[1;31mNameError\u001b[0m                                 Traceback (most recent call last)",
      "Cell \u001b[1;32mIn[23], line 2\u001b[0m\n\u001b[0;32m      1\u001b[0m \u001b[38;5;66;03m# Predicción de probabilidades\u001b[39;00m\n\u001b[1;32m----> 2\u001b[0m probs_lda \u001b[38;5;241m=\u001b[39m lda_reg\u001b[38;5;241m.\u001b[39mpredict_proba(X_prueba)[:, \u001b[38;5;241m1\u001b[39m]\n\u001b[0;32m      4\u001b[0m \u001b[38;5;66;03m# Cálculo de FPR, TPR, y thresholds\u001b[39;00m\n\u001b[0;32m      5\u001b[0m fpr_lda, tpr_lda, _ \u001b[38;5;241m=\u001b[39m roc_curve(Y_prueba, probs_lda)\n",
      "\u001b[1;31mNameError\u001b[0m: name 'lda_reg' is not defined"
     ]
    }
   ],
   "source": [
    "# Predicción de probabilidades\n",
    "probs_lda = lda_reg.predict_proba(X_prueba)[:, 1]\n",
    "\n",
    "# Cálculo de FPR, TPR, y thresholds\n",
    "fpr_lda, tpr_lda, _ = roc_curve(Y_prueba, probs_lda)\n",
    "\n",
    "# Calcula el área bajo la curva ROC\n",
    "roc_auc = roc_auc_score(Y_prueba, probs_lda)\n",
    "\n",
    "# Dibujo de la curva ROC\n",
    "plt.figure(figsize=(7, 5))\n",
    "plt.plot(fpr_log, tpr_log, color='navy', lw=2, label='Curva ROC (área = {:.2f})'.format(roc_auc))\n",
    "plt.plot([0, 1], [0, 1], color='silver', lw=2, linestyle='-.')\n",
    "plt.xlim([0.0, 1.0])\n",
    "plt.ylim([0.0, 1.1])\n",
    "plt.xlabel('Razón de Falsos Positivos')\n",
    "plt.ylabel('Razón de Verdaderos Positivos')\n",
    "plt.title('Característica Operativa del Receptor (ROC)')\n",
    "plt.legend(loc='best')\n",
    "plt.tight_layout()\n",
    "plt.show()"
   ]
  },
  {
   "cell_type": "code",
   "execution_count": 25,
   "id": "dfa84c7c",
   "metadata": {},
   "outputs": [
    {
     "ename": "NameError",
     "evalue": "name 'roc_auc_score' is not defined",
     "output_type": "error",
     "traceback": [
      "\u001b[1;31m---------------------------------------------------------------------------\u001b[0m",
      "\u001b[1;31mNameError\u001b[0m                                 Traceback (most recent call last)",
      "Cell \u001b[1;32mIn[25], line 1\u001b[0m\n\u001b[1;32m----> 1\u001b[0m valor_auc_lda \u001b[38;5;241m=\u001b[39m roc_auc_score(Y_prueba, Y_pred_lda)\n\u001b[0;32m      2\u001b[0m \u001b[38;5;28mprint\u001b[39m(\u001b[38;5;124m'\u001b[39m\u001b[38;5;130;01m\\n\u001b[39;00m\u001b[38;5;124m \u001b[39m\u001b[38;5;130;01m\\n\u001b[39;00m\u001b[38;5;124m El área bajo la curva (AUC) para el modelo Logit es: \u001b[39m\u001b[38;5;132;01m{:.3f}\u001b[39;00m\u001b[38;5;124m \u001b[39m\u001b[38;5;130;01m\\n\u001b[39;00m\u001b[38;5;124m \u001b[39m\u001b[38;5;130;01m\\n\u001b[39;00m\u001b[38;5;124m'\u001b[39m\u001b[38;5;241m.\u001b[39mformat(valor_auc_log))\n\u001b[0;32m      4\u001b[0m \u001b[38;5;66;03m# Determinamos la precisión (Accuracy):\u001b[39;00m\n",
      "\u001b[1;31mNameError\u001b[0m: name 'roc_auc_score' is not defined"
     ]
    }
   ],
   "source": [
    "valor_auc_lda = roc_auc_score(Y_prueba, Y_pred_lda)\n",
    "print('\\n \\n El área bajo la curva (AUC) para el modelo Logit es: {:.3f} \\n \\n'.format(valor_auc_log))\n",
    "\n",
    "# Determinamos la precisión (Accuracy):\n",
    "\n",
    "precisión = accuracy_score(Y_prueba, Y_pred_lda)\n",
    "print('\\n \\n La precisión del modelo Logit resulta ser: {:.6f} \\n \\n'.format(precisión))"
   ]
  },
  {
   "cell_type": "code",
   "execution_count": null,
   "id": "a34d744b",
   "metadata": {},
   "outputs": [],
   "source": [
    "#Modelo KNN "
   ]
  },
  {
   "cell_type": "code",
   "execution_count": 26,
   "id": "56557878",
   "metadata": {},
   "outputs": [
    {
     "ename": "NameError",
     "evalue": "name 'KNeighborsClassifier' is not defined",
     "output_type": "error",
     "traceback": [
      "\u001b[1;31m---------------------------------------------------------------------------\u001b[0m",
      "\u001b[1;31mNameError\u001b[0m                                 Traceback (most recent call last)",
      "Cell \u001b[1;32mIn[26], line 1\u001b[0m\n\u001b[1;32m----> 1\u001b[0m knn \u001b[38;5;241m=\u001b[39m KNeighborsClassifier(n_neighbors\u001b[38;5;241m=\u001b[39m\u001b[38;5;241m3\u001b[39m)\n\u001b[0;32m      2\u001b[0m knn\u001b[38;5;241m.\u001b[39mfit(X_entrenamiento, y_entrenamiento)\n",
      "\u001b[1;31mNameError\u001b[0m: name 'KNeighborsClassifier' is not defined"
     ]
    }
   ],
   "source": [
    "knn = KNeighborsClassifier(n_neighbors=3)\n",
    "knn.fit(X_entrenamiento, y_entrenamiento)"
   ]
  },
  {
   "cell_type": "code",
   "execution_count": 27,
   "id": "e1b8d333",
   "metadata": {},
   "outputs": [
    {
     "ename": "NameError",
     "evalue": "name 'knn' is not defined",
     "output_type": "error",
     "traceback": [
      "\u001b[1;31m---------------------------------------------------------------------------\u001b[0m",
      "\u001b[1;31mNameError\u001b[0m                                 Traceback (most recent call last)",
      "Cell \u001b[1;32mIn[27], line 1\u001b[0m\n\u001b[1;32m----> 1\u001b[0m y_pred_knn \u001b[38;5;241m=\u001b[39m knn\u001b[38;5;241m.\u001b[39mpredict(X_test\u001b[38;5;241m.\u001b[39mvalues)\n",
      "\u001b[1;31mNameError\u001b[0m: name 'knn' is not defined"
     ]
    }
   ],
   "source": [
    "y_pred_knn = knn.predict(X_test.values)\n",
    "                         "
   ]
  },
  {
   "cell_type": "code",
   "execution_count": 29,
   "id": "7d67c210",
   "metadata": {},
   "outputs": [
    {
     "ename": "NameError",
     "evalue": "name 'y_prueba' is not defined",
     "output_type": "error",
     "traceback": [
      "\u001b[1;31m---------------------------------------------------------------------------\u001b[0m",
      "\u001b[1;31mNameError\u001b[0m                                 Traceback (most recent call last)",
      "Cell \u001b[1;32mIn[29], line 3\u001b[0m\n\u001b[0;32m      1\u001b[0m \u001b[38;5;28;01mfrom\u001b[39;00m \u001b[38;5;21;01msklearn\u001b[39;00m\u001b[38;5;21;01m.\u001b[39;00m\u001b[38;5;21;01mmetrics\u001b[39;00m \u001b[38;5;28;01mimport\u001b[39;00m confusion_matrix, accuracy_score\n\u001b[1;32m----> 3\u001b[0m matriz_confusion_knn \u001b[38;5;241m=\u001b[39m confusion_matrix(y_prueba, y_pred_knn)\n\u001b[0;32m      4\u001b[0m ac_knn \u001b[38;5;241m=\u001b[39m accuracy_score(y_prueba, y_pred_knn)\n\u001b[0;32m      6\u001b[0m \u001b[38;5;28mprint\u001b[39m(\u001b[38;5;124m'\u001b[39m\u001b[38;5;124mMatriz de confusión:\u001b[39m\u001b[38;5;124m'\u001b[39m)\n",
      "\u001b[1;31mNameError\u001b[0m: name 'y_prueba' is not defined"
     ]
    }
   ],
   "source": [
    "from sklearn.metrics import confusion_matrix, accuracy_score\n",
    "\n",
    "matriz_confusion_knn = confusion_matrix(y_prueba, y_pred_knn)\n",
    "ac_knn = accuracy_score(y_prueba, y_pred_knn)\n",
    "\n",
    "print('Matriz de confusión:')\n",
    "print(matriz_confusion_knn)\n",
    "print(f'Accuracy Score: {ac_knn:.3f}')\n"
   ]
  },
  {
   "cell_type": "code",
   "execution_count": 30,
   "id": "dafdc5ad",
   "metadata": {},
   "outputs": [
    {
     "ename": "NameError",
     "evalue": "name 'matriz_confusion_knn' is not defined",
     "output_type": "error",
     "traceback": [
      "\u001b[1;31m---------------------------------------------------------------------------\u001b[0m",
      "\u001b[1;31mNameError\u001b[0m                                 Traceback (most recent call last)",
      "Cell \u001b[1;32mIn[30], line 4\u001b[0m\n\u001b[0;32m      1\u001b[0m \u001b[38;5;28;01mimport\u001b[39;00m \u001b[38;5;21;01mseaborn\u001b[39;00m \u001b[38;5;28;01mas\u001b[39;00m \u001b[38;5;21;01msns\u001b[39;00m\n\u001b[0;32m      2\u001b[0m \u001b[38;5;28;01mimport\u001b[39;00m \u001b[38;5;21;01mmatplotlib\u001b[39;00m\u001b[38;5;21;01m.\u001b[39;00m\u001b[38;5;21;01mpyplot\u001b[39;00m \u001b[38;5;28;01mas\u001b[39;00m \u001b[38;5;21;01mplt\u001b[39;00m\n\u001b[1;32m----> 4\u001b[0m mc_knn_plot \u001b[38;5;241m=\u001b[39m sns\u001b[38;5;241m.\u001b[39mheatmap(matriz_confusion_knn, annot\u001b[38;5;241m=\u001b[39m\u001b[38;5;28;01mTrue\u001b[39;00m, fmt\u001b[38;5;241m=\u001b[39m\u001b[38;5;124m'\u001b[39m\u001b[38;5;124mg\u001b[39m\u001b[38;5;124m'\u001b[39m, cmap\u001b[38;5;241m=\u001b[39m\u001b[38;5;124m'\u001b[39m\u001b[38;5;124mBlues\u001b[39m\u001b[38;5;124m'\u001b[39m, xticklabels\u001b[38;5;241m=\u001b[39m[\u001b[38;5;124m'\u001b[39m\u001b[38;5;124mFalso\u001b[39m\u001b[38;5;124m'\u001b[39m, \u001b[38;5;124m'\u001b[39m\u001b[38;5;124mVerdadero\u001b[39m\u001b[38;5;124m'\u001b[39m], yticklabels\u001b[38;5;241m=\u001b[39m[\u001b[38;5;124m'\u001b[39m\u001b[38;5;124mFalso\u001b[39m\u001b[38;5;124m'\u001b[39m, \u001b[38;5;124m'\u001b[39m\u001b[38;5;124mVerdadero\u001b[39m\u001b[38;5;124m'\u001b[39m], annot_kws\u001b[38;5;241m=\u001b[39m{\u001b[38;5;124m\"\u001b[39m\u001b[38;5;124mfontsize\u001b[39m\u001b[38;5;124m\"\u001b[39m: \u001b[38;5;241m12\u001b[39m})\n\u001b[0;32m      5\u001b[0m mc_knn_plot\u001b[38;5;241m.\u001b[39mset_xlabel(\u001b[38;5;124m'\u001b[39m\u001b[38;5;124mPredicción\u001b[39m\u001b[38;5;124m'\u001b[39m)\n\u001b[0;32m      6\u001b[0m mc_knn_plot\u001b[38;5;241m.\u001b[39mset_ylabel(\u001b[38;5;124m'\u001b[39m\u001b[38;5;124mObservado\u001b[39m\u001b[38;5;124m'\u001b[39m)\n",
      "\u001b[1;31mNameError\u001b[0m: name 'matriz_confusion_knn' is not defined"
     ]
    }
   ],
   "source": [
    "import seaborn as sns\n",
    "import matplotlib.pyplot as plt\n",
    "\n",
    "mc_knn_plot = sns.heatmap(matriz_confusion_knn, annot=True, fmt='g', cmap='Blues', xticklabels=['Falso', 'Verdadero'], yticklabels=['Falso', 'Verdadero'], annot_kws={\"fontsize\": 12})\n",
    "mc_knn_plot.set_xlabel('Predicción')\n",
    "mc_knn_plot.set_ylabel('Observado')\n",
    "\n",
    "plt.savefig('../outputs/mc_knn.png', format='png')\n",
    "plt.show()\n",
    "plt.close()\n"
   ]
  },
  {
   "cell_type": "code",
   "execution_count": 31,
   "id": "eacf7f58",
   "metadata": {},
   "outputs": [
    {
     "ename": "NameError",
     "evalue": "name 'roc_auc_score' is not defined",
     "output_type": "error",
     "traceback": [
      "\u001b[1;31m---------------------------------------------------------------------------\u001b[0m",
      "\u001b[1;31mNameError\u001b[0m                                 Traceback (most recent call last)",
      "Cell \u001b[1;32mIn[31], line 1\u001b[0m\n\u001b[1;32m----> 1\u001b[0m auc_knn \u001b[38;5;241m=\u001b[39m roc_auc_score(y_prueba, y_pred_knn)\n\u001b[0;32m      2\u001b[0m \u001b[38;5;28mprint\u001b[39m(\u001b[38;5;124m'\u001b[39m\u001b[38;5;130;01m\\n\u001b[39;00m\u001b[38;5;124m'\u001b[39m,\u001b[38;5;124m'\u001b[39m\u001b[38;5;124mAUC KNN:\u001b[39m\u001b[38;5;124m'\u001b[39m, \u001b[38;5;124m'\u001b[39m\u001b[38;5;132;01m%.2f\u001b[39;00m\u001b[38;5;124m'\u001b[39m \u001b[38;5;241m%\u001b[39m auc_knn,\u001b[38;5;124m'\u001b[39m\u001b[38;5;130;01m\\n\u001b[39;00m\u001b[38;5;124m'\u001b[39m)\n\u001b[0;32m      4\u001b[0m fpr_knn, tpr_knn, thresholds_knn \u001b[38;5;241m=\u001b[39m roc_curve(y_prueba, y_pred_knn)\n",
      "\u001b[1;31mNameError\u001b[0m: name 'roc_auc_score' is not defined"
     ]
    }
   ],
   "source": [
    "auc_knn = roc_auc_score(y_prueba, y_pred_knn)\n",
    "print('\\n','AUC KNN:', '%.2f' % auc_knn,'\\n')\n",
    "\n",
    "fpr_knn, tpr_knn, thresholds_knn = roc_curve(y_prueba, y_pred_knn)\n",
    "\n",
    "display = RocCurveDisplay(fpr=fpr_knn, tpr=tpr_knn, roc_auc=auc_knn, estimator_name='KNN')\n",
    "display.plot()  \n",
    "plt.plot([0, 1], [0, 1], color='red', linestyle='--')\n",
    "plt.show() "
   ]
  },
  {
   "cell_type": "code",
   "execution_count": 32,
   "id": "70dca6c3",
   "metadata": {},
   "outputs": [
    {
     "ename": "NameError",
     "evalue": "name 'fpr' is not defined",
     "output_type": "error",
     "traceback": [
      "\u001b[1;31m---------------------------------------------------------------------------\u001b[0m",
      "\u001b[1;31mNameError\u001b[0m                                 Traceback (most recent call last)",
      "Cell \u001b[1;32mIn[32], line 5\u001b[0m\n\u001b[0;32m      1\u001b[0m \u001b[38;5;66;03m#4\u001b[39;00m\n\u001b[0;32m      2\u001b[0m \u001b[38;5;66;03m# Graficamos las tres curvas ROC juntas\u001b[39;00m\n\u001b[0;32m      3\u001b[0m \n\u001b[0;32m      4\u001b[0m \u001b[38;5;66;03m# Plot the ROC curves on the same axis\u001b[39;00m\n\u001b[1;32m----> 5\u001b[0m plt\u001b[38;5;241m.\u001b[39mplot(fpr, tpr, label\u001b[38;5;241m=\u001b[39m\u001b[38;5;124mf\u001b[39m\u001b[38;5;124m'\u001b[39m\u001b[38;5;124mLogit (AUC = \u001b[39m\u001b[38;5;132;01m{\u001b[39;00mauc_log\u001b[38;5;132;01m:\u001b[39;00m\u001b[38;5;124m.2f\u001b[39m\u001b[38;5;132;01m}\u001b[39;00m\u001b[38;5;124m)\u001b[39m\u001b[38;5;124m'\u001b[39m)\n\u001b[0;32m      6\u001b[0m plt\u001b[38;5;241m.\u001b[39mplot(fpr_knn, tpr_knn, label\u001b[38;5;241m=\u001b[39m\u001b[38;5;124mf\u001b[39m\u001b[38;5;124m'\u001b[39m\u001b[38;5;124mKNN (AUC = \u001b[39m\u001b[38;5;132;01m{\u001b[39;00mauc_knn\u001b[38;5;132;01m:\u001b[39;00m\u001b[38;5;124m.2f\u001b[39m\u001b[38;5;132;01m}\u001b[39;00m\u001b[38;5;124m)\u001b[39m\u001b[38;5;124m'\u001b[39m)\n\u001b[0;32m      7\u001b[0m plt\u001b[38;5;241m.\u001b[39mplot(fpr_lda, tpr_lda, label\u001b[38;5;241m=\u001b[39m\u001b[38;5;124mf\u001b[39m\u001b[38;5;124m'\u001b[39m\u001b[38;5;124mLDA (AUC = \u001b[39m\u001b[38;5;132;01m{\u001b[39;00mauc_lda\u001b[38;5;132;01m:\u001b[39;00m\u001b[38;5;124m.2f\u001b[39m\u001b[38;5;132;01m}\u001b[39;00m\u001b[38;5;124m)\u001b[39m\u001b[38;5;124m'\u001b[39m)\n",
      "\u001b[1;31mNameError\u001b[0m: name 'fpr' is not defined"
     ]
    }
   ],
   "source": [
    "#4\n",
    "# Graficamos las tres curvas ROC juntas\n",
    "\n",
    "# Plot the ROC curves on the same axis\n",
    "plt.plot(fpr, tpr, label=f'Logit (AUC = {auc_log:.2f})')\n",
    "plt.plot(fpr_knn, tpr_knn, label=f'KNN (AUC = {auc_knn:.2f})')\n",
    "plt.plot(fpr_lda, tpr_lda, label=f'LDA (AUC = {auc_lda:.2f})')\n",
    "\n",
    "# Add labels and legend\n",
    "plt.xlabel('False Positive Rate')\n",
    "plt.ylabel('True Positive Rate')\n",
    "plt.legend()\n",
    "\n",
    "# Show the plot\n",
    "plt.savefig('../outputs/roc_curves.png', format='png')\n",
    "plt.show() \n",
    "plt.close()"
   ]
  },
  {
   "cell_type": "code",
   "execution_count": null,
   "id": "788ea593",
   "metadata": {},
   "outputs": [],
   "source": []
  }
 ],
 "metadata": {
  "kernelspec": {
   "display_name": "Python 3 (ipykernel)",
   "language": "python",
   "name": "python3"
  },
  "language_info": {
   "codemirror_mode": {
    "name": "ipython",
    "version": 3
   },
   "file_extension": ".py",
   "mimetype": "text/x-python",
   "name": "python",
   "nbconvert_exporter": "python",
   "pygments_lexer": "ipython3",
   "version": "3.11.4"
  }
 },
 "nbformat": 4,
 "nbformat_minor": 5
}

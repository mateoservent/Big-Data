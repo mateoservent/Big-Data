{
 "cells": [
  {
   "cell_type": "markdown",
   "id": "46ae9228",
   "metadata": {},
   "source": [
    "# Trabajo Práctico Nº3 - Big Data"
   ]
  },
  {
   "cell_type": "markdown",
   "id": "a30b5435",
   "metadata": {},
   "source": [
    "### Mateo Servent, Joaquín Musich y Andres Cuellas"
   ]
  },
  {
   "cell_type": "markdown",
   "id": "a417faa8",
   "metadata": {},
   "source": [
    "### Parte I: Análisis de la base de hogares y cálculo de pobreza"
   ]
  },
  {
   "cell_type": "code",
   "execution_count": null,
   "id": "b20c5789",
   "metadata": {},
   "outputs": [],
   "source": []
  },
  {
   "cell_type": "code",
   "execution_count": null,
   "id": "7c7bd3aa",
   "metadata": {},
   "outputs": [],
   "source": []
  }
 ],
 "metadata": {
  "kernelspec": {
   "display_name": "Python 3 (ipykernel)",
   "language": "python",
   "name": "python3"
  },
  "language_info": {
   "codemirror_mode": {
    "name": "ipython",
    "version": 3
   },
   "file_extension": ".py",
   "mimetype": "text/x-python",
   "name": "python",
   "nbconvert_exporter": "python",
   "pygments_lexer": "ipython3",
   "version": "3.11.4"
  }
 },
 "nbformat": 4,
 "nbformat_minor": 5
}
